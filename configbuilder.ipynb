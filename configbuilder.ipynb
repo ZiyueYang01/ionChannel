{
 "cells": [
  {
   "cell_type": "code",
   "execution_count": 1,
   "metadata": {},
   "outputs": [],
   "source": [
    "import json\n",
    "\n",
    "a = {\n",
    "    \"train\": {\"epoch\": 15, \"batch_size\":8, \"accumulate_grad_batches\":2, \"seed\":1509},\n",
    "    \"pretrain_model\": {\"unfix_layers\": [9, 10, 11], \"add_lora\":[], \"rank\":[], \"alpha\":[]},\n",
    "    \"model\": {\"lambda_adapt\":True, \"lambda_step\":1.5, \"lambda_ini\":0.1, \"lambda_thres\":[0.90, 0.95], \"max_lambda\":6, \"dropout\":0.2},\n",
    "}\n",
    "\n",
    "with open(\"./config.json\", \"w\") as f:\n",
    "    json.dump(a, f)"
   ]
  },
  {
   "cell_type": "code",
   "execution_count": 2,
   "metadata": {},
   "outputs": [
    {
     "data": {
      "text/plain": [
       "{'train': {'epoch': 15,\n",
       "  'batch_size': 8,\n",
       "  'accumulate_grad_batches': 2,\n",
       "  'seed': 1509},\n",
       " 'pretrain_model': {'unfix_layers': [11],\n",
       "  'add_lora': [],\n",
       "  'rank': [],\n",
       "  'alpha': []},\n",
       " 'model': {'lambda_adapt': True,\n",
       "  'lambda_step': 1.5,\n",
       "  'lambda_ini': 0.1,\n",
       "  'lambda_thres': [0.9, 0.95],\n",
       "  'max_lambda': 6,\n",
       "  'dropout': 0.2}}"
      ]
     },
     "execution_count": 2,
     "metadata": {},
     "output_type": "execute_result"
    }
   ],
   "source": [
    "with open(\"./config.json\", \"r\") as f:\n",
    "    a = json.load(f)\n",
    "a"
   ]
  }
 ],
 "metadata": {
  "kernelspec": {
   "display_name": "pytorch",
   "language": "python",
   "name": "python3"
  },
  "language_info": {
   "codemirror_mode": {
    "name": "ipython",
    "version": 3
   },
   "file_extension": ".py",
   "mimetype": "text/x-python",
   "name": "python",
   "nbconvert_exporter": "python",
   "pygments_lexer": "ipython3",
   "version": "3.12.2"
  }
 },
 "nbformat": 4,
 "nbformat_minor": 2
}
